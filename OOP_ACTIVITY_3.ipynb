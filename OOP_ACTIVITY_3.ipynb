{
  "nbformat": 4,
  "nbformat_minor": 0,
  "metadata": {
    "colab": {
      "name": "OOP ACTIVITY 3.ipynb",
      "provenance": [],
      "collapsed_sections": [],
      "authorship_tag": "ABX9TyOC/nkORS5SXEtHMa2N5M+O",
      "include_colab_link": true
    },
    "kernelspec": {
      "name": "python3",
      "display_name": "Python 3"
    },
    "language_info": {
      "name": "python"
    }
  },
  "cells": [
    {
      "cell_type": "markdown",
      "metadata": {
        "id": "view-in-github",
        "colab_type": "text"
      },
      "source": [
        "<a href=\"https://colab.research.google.com/github/Itto-ryu/OOP-1-2/blob/main/OOP_ACTIVITY_3.ipynb\" target=\"_parent\"><img src=\"https://colab.research.google.com/assets/colab-badge.svg\" alt=\"Open In Colab\"/></a>"
      ]
    },
    {
      "cell_type": "code",
      "source": [
        "class Person:\n",
        "  def __init__(self, pre, mid, final, std1, std2, std3):\n",
        "    self.__pre = pre\n",
        "    self.__mid = mid\n",
        "    self.__final = final\n",
        "    self.__std1 = std1\n",
        "    self.__std2 = std2\n",
        "    self.__std3 = std3\n",
        "\n",
        "  def Grade(self):\n",
        "    return round(((self.__pre + self.__mid + self.__final) / 3),2)\n",
        "\n",
        "  def display(self):\n",
        "    print(\"The grade of Student 1 is:\", self.Grade())\n",
        "\n",
        "  def display2(self):\n",
        "    print(\"The grade of Student 2 is:\", self.Grade())\n",
        "\n",
        "  def display3(self):\n",
        "    print(\"The grade of Student 3 is:\", self.Grade())\n",
        "\n",
        "\n",
        "grades = Person(90, 85, 90, \"Dung Eater\", \"Starscourge Radahn\", \"Alexander the Pot\")     \n",
        "grades2 = Person(85, 80, 95, \"Dung Eater\", \"Starscourge Radahn\", \"Alexander the Pot\")\n",
        "grades3 = Person(80, 85, 85, \"Dung Eater\", \"Starscourge Radahn\", \"Alexander the Pot\")\n",
        "\n",
        "grades.display()\n",
        "grades2.display2()\n",
        "grades3.display3()\n",
        "\n",
        "#Here, the name of student 1 is defined \"Dung Eater\"\n",
        "#after printing, the name of student 1 is hidden\n",
        "#same as other studens, they were defined first, but at the final the name cannot be seen"
      ],
      "metadata": {
        "colab": {
          "base_uri": "https://localhost:8080/"
        },
        "id": "bPWVlkSKCf6a",
        "outputId": "5fbea572-dcbc-4efb-b378-7bb7d8e7ae08"
      },
      "execution_count": 29,
      "outputs": [
        {
          "output_type": "stream",
          "name": "stdout",
          "text": [
            "The grade of Student 1 is: 88.33\n",
            "The grade of Student 2 is: 86.67\n",
            "The grade of Student 3 is: 83.33\n"
          ]
        }
      ]
    }
  ]
}