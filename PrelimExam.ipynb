{
  "nbformat": 4,
  "nbformat_minor": 0,
  "metadata": {
    "colab": {
      "name": "PrelimExam.ipynb",
      "provenance": [],
      "authorship_tag": "ABX9TyM28qhjxAPmfD5RQB72ZTDL",
      "include_colab_link": true
    },
    "kernelspec": {
      "name": "python3",
      "display_name": "Python 3"
    },
    "language_info": {
      "name": "python"
    }
  },
  "cells": [
    {
      "cell_type": "markdown",
      "metadata": {
        "id": "view-in-github",
        "colab_type": "text"
      },
      "source": [
        "<a href=\"https://colab.research.google.com/github/Itto-ryu/OOP-1-2/blob/main/PrelimExam.ipynb\" target=\"_parent\"><img src=\"https://colab.research.google.com/assets/colab-badge.svg\" alt=\"Open In Colab\"/></a>"
      ]
    },
    {
      "cell_type": "markdown",
      "source": [
        "##Problem 2"
      ],
      "metadata": {
        "id": "oZvsbbU9dDPH"
      }
    },
    {
      "cell_type": "code",
      "execution_count": 14,
      "metadata": {
        "colab": {
          "base_uri": "https://localhost:8080/"
        },
        "id": "Aa7E6AoXcr5i",
        "outputId": "4115eec6-3a8a-482d-adc3-3ed609a70772"
      },
      "outputs": [
        {
          "output_type": "stream",
          "name": "stdout",
          "text": [
            "Name: Ryu B. Santos \n",
            "Student Number: 202101925 \n",
            "Age: 19 \n",
            "School: Cavite State University \n",
            "Course: Bachelor of Science in Computer Engineering\n"
          ]
        }
      ],
      "source": [
        "class Student:\n",
        "  def __init__ (self, Name, Student_No, Age, School, Course):\n",
        "    self.Name = Name\n",
        "    self.Student_No = Student_No\n",
        "    self.Age = Age\n",
        "    self.School = School\n",
        "    self.Course = Course\n",
        "\n",
        "  def Info(self):\n",
        "    print(f\"Name: {self.Name} \\nStudent Number: {self.Student_No} \\nAge: {self.Age} \\nSchool: {self.School} \\nCourse: {self.Course}\")\n",
        "\n",
        "Myself = Student(\"Ryu B. Santos\", \"202101925\", 19, \"Cavite State University\", \"Bachelor of Science in Computer Engineering\")\n",
        "\n",
        "Myself.Info()"
      ]
    }
  ]
}