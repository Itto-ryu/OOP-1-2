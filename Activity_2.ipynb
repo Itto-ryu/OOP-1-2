{
  "nbformat": 4,
  "nbformat_minor": 0,
  "metadata": {
    "colab": {
      "name": "Activity 2.ipynb",
      "provenance": [],
      "authorship_tag": "ABX9TyOBzb45MNMFY4VKz9tKzrHZ",
      "include_colab_link": true
    },
    "kernelspec": {
      "name": "python3",
      "display_name": "Python 3"
    },
    "language_info": {
      "name": "python"
    }
  },
  "cells": [
    {
      "cell_type": "markdown",
      "metadata": {
        "id": "view-in-github",
        "colab_type": "text"
      },
      "source": [
        "<a href=\"https://colab.research.google.com/github/Itto-ryu/OOP-1-2/blob/main/Activity_2.ipynb\" target=\"_parent\"><img src=\"https://colab.research.google.com/assets/colab-badge.svg\" alt=\"Open In Colab\"/></a>"
      ]
    },
    {
      "cell_type": "markdown",
      "source": [
        "##Write a Python program that converts the temperature Celsius to Fahrenheit. Create a class name Temperature"
      ],
      "metadata": {
        "id": "KPZgnXhXW6Oi"
      }
    },
    {
      "cell_type": "code",
      "execution_count": null,
      "metadata": {
        "id": "RV2YlJbWWymq"
      },
      "outputs": [],
      "source": [
        "#Create Celsius as attribute name, Temp() as method, and temp1 as object name.\n",
        "\n",
        "#F=1.8*C+32"
      ]
    },
    {
      "cell_type": "code",
      "source": [
        "class Temperature:\n",
        "  def __init__(self,Celsius):\n",
        "    self.Celsius = Celsius\n",
        "\n",
        "  def Temp(self):\n",
        "    return 1.8*self.Celsius+32\n",
        "\n",
        "input_temp = float(input(\"Input the temperature in Celsius= \"))\n",
        "temp1 = Temperature(input_temp)\n",
        "print(round(temp1.Temp(),3))\n",
        "  "
      ],
      "metadata": {
        "colab": {
          "base_uri": "https://localhost:8080/"
        },
        "id": "3H4w1EAsYZZY",
        "outputId": "38018a7e-588a-4655-81ac-2691a295960f"
      },
      "execution_count": 25,
      "outputs": [
        {
          "output_type": "stream",
          "name": "stdout",
          "text": [
            "Input the temperature in Celsius= 45\n",
            "113.0\n"
          ]
        }
      ]
    },
    {
      "cell_type": "markdown",
      "source": [
        "##Define an Area() method of the class that calculates the circle’s area."
      ],
      "metadata": {
        "id": "Yi0KmP-HflEq"
      }
    },
    {
      "cell_type": "code",
      "source": [
        "class Circle:\n",
        "  def __init__(self,circleArea):\n",
        "    self.circleArea = circleArea\n",
        "  \n",
        "  def Radius(self):\n",
        "    PI = 3.14\n",
        "    rds = 6\n",
        "    return PI * (rds*rds)\n",
        "\n",
        "  def display(self):\n",
        "    print(\"the area of the circle is:\", self.Radius())\n",
        "\n",
        "circle = Circle(6)\n",
        "print(circle.circleArea)\n",
        "circle.display()"
      ],
      "metadata": {
        "colab": {
          "base_uri": "https://localhost:8080/"
        },
        "id": "0wV2PlQ8fl5w",
        "outputId": "c9ac42c9-9485-47b2-a6d4-c5531e676c26"
      },
      "execution_count": 104,
      "outputs": [
        {
          "output_type": "stream",
          "name": "stdout",
          "text": [
            "6\n",
            "the area of the circle is: 113.04\n"
          ]
        }
      ]
    },
    {
      "cell_type": "markdown",
      "source": [
        "##Define a Perimeter() method of the class which allows you to calculate the perimeter of the circle."
      ],
      "metadata": {
        "id": "cs_aq3TzfyAY"
      }
    },
    {
      "cell_type": "code",
      "source": [
        "class Circle:\n",
        "  def __init__(self,circlePerimeter):\n",
        "    self.circlePerimeter = circlePerimeter\n",
        "\n",
        "  def Radius(self):\n",
        "    PI = 3.14\n",
        "    rds = 9\n",
        "    return 2 * PI * rds\n",
        "\n",
        "  def display(self):\n",
        "    print(\"the perimeter of the circles is: \", self.Radius())\n",
        "\n",
        "circle = Circle(9)\n",
        "print(circle.circlePerimeter)\n",
        "circle.display()"
      ],
      "metadata": {
        "colab": {
          "base_uri": "https://localhost:8080/"
        },
        "id": "l9t_QicZfyVK",
        "outputId": "b6bc4948-a2d0-40d5-c810-e4f5463abaaa"
      },
      "execution_count": 106,
      "outputs": [
        {
          "output_type": "stream",
          "name": "stdout",
          "text": [
            "9\n",
            "the perimeter of the circles is:  56.52\n"
          ]
        }
      ]
    }
  ]
}