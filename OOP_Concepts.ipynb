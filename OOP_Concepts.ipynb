{
  "nbformat": 4,
  "nbformat_minor": 0,
  "metadata": {
    "colab": {
      "name": "OOP Concepts.ipynb",
      "provenance": [],
      "collapsed_sections": [],
      "authorship_tag": "ABX9TyPA3rBO+Bym2xrZQE+gybgo",
      "include_colab_link": true
    },
    "kernelspec": {
      "name": "python3",
      "display_name": "Python 3"
    },
    "language_info": {
      "name": "python"
    }
  },
  "cells": [
    {
      "cell_type": "markdown",
      "metadata": {
        "id": "view-in-github",
        "colab_type": "text"
      },
      "source": [
        "<a href=\"https://colab.research.google.com/github/Itto-ryu/OOP-1-2/blob/main/OOP_Concepts.ipynb\" target=\"_parent\"><img src=\"https://colab.research.google.com/assets/colab-badge.svg\" alt=\"Open In Colab\"/></a>"
      ]
    },
    {
      "cell_type": "markdown",
      "source": [
        "##Python Classes and Objects"
      ],
      "metadata": {
        "id": "hM-QjeHwSAoK"
      }
    },
    {
      "cell_type": "markdown",
      "source": [
        "###Create classes"
      ],
      "metadata": {
        "id": "QFvri0OAR9EZ"
      }
    },
    {
      "cell_type": "code",
      "source": [
        "class MyClass:\n",
        "  pass"
      ],
      "metadata": {
        "id": "oKR8kSGbSWUS"
      },
      "execution_count": null,
      "outputs": []
    },
    {
      "cell_type": "code",
      "source": [
        "class OOP1_2:\n",
        "  x=5\n",
        "  print(x)"
      ],
      "metadata": {
        "colab": {
          "base_uri": "https://localhost:8080/"
        },
        "id": "oljh4dsySozL",
        "outputId": "f673225e-059f-45a5-97fe-385c61fecbaa"
      },
      "execution_count": null,
      "outputs": [
        {
          "output_type": "stream",
          "name": "stdout",
          "text": [
            "5\n"
          ]
        }
      ]
    },
    {
      "cell_type": "markdown",
      "source": [
        "###Create Objects"
      ],
      "metadata": {
        "id": "3Dc9AKjgUEYq"
      }
    },
    {
      "cell_type": "code",
      "source": [
        "class OOP1_2:\n",
        "  def __init__(self,name,age):  #__init__()\n",
        "      self.name = name          #attributes\n",
        "      self.age = age\n",
        "\n",
        "  def identity(self):\n",
        "    print(self.name,self.age)\n",
        "\n",
        "person = OOP1_2(\"Ryu\", 19)      #create objects\n",
        "\n",
        "print(person.identity)\n",
        "print(person.name)\n",
        "print(person.age)"
      ],
      "metadata": {
        "colab": {
          "base_uri": "https://localhost:8080/"
        },
        "id": "uzlKmoj6SpEJ",
        "outputId": "f43e6e3f-cd68-4c2c-d493-ceb2b183fd5c"
      },
      "execution_count": null,
      "outputs": [
        {
          "output_type": "stream",
          "name": "stdout",
          "text": [
            "<bound method OOP1_2.identity of <__main__.OOP1_2 object at 0x7fa09b5d5bd0>>\n",
            "Ryu\n",
            "19\n"
          ]
        }
      ]
    },
    {
      "cell_type": "code",
      "source": [
        "#Modify the Object Name\n",
        "\n",
        "person.name = \"Yong\"\n",
        "person.age = 24\n",
        "print(person.name)\n",
        "print(person.age)"
      ],
      "metadata": {
        "colab": {
          "base_uri": "https://localhost:8080/"
        },
        "id": "qVT6sHQ0SpUB",
        "outputId": "1a7225f4-17c9-4e63-b410-59a8d5740769"
      },
      "execution_count": null,
      "outputs": [
        {
          "output_type": "stream",
          "name": "stdout",
          "text": [
            "Yong\n",
            "24\n"
          ]
        }
      ]
    },
    {
      "cell_type": "code",
      "source": [
        "#Delete the Object\n",
        "\n",
        "del person.name\n",
        "print(person.name)"
      ],
      "metadata": {
        "colab": {
          "base_uri": "https://localhost:8080/",
          "height": 200
        },
        "id": "8h7_96AMW1lf",
        "outputId": "1814018c-7814-45bc-ef9f-bf000a35a621"
      },
      "execution_count": null,
      "outputs": [
        {
          "output_type": "error",
          "ename": "AttributeError",
          "evalue": "ignored",
          "traceback": [
            "\u001b[0;31m---------------------------------------------------------------------------\u001b[0m",
            "\u001b[0;31mAttributeError\u001b[0m                            Traceback (most recent call last)",
            "\u001b[0;32m<ipython-input-8-ded01ff9f84e>\u001b[0m in \u001b[0;36m<module>\u001b[0;34m()\u001b[0m\n\u001b[1;32m      2\u001b[0m \u001b[0;34m\u001b[0m\u001b[0m\n\u001b[1;32m      3\u001b[0m \u001b[0;32mdel\u001b[0m \u001b[0mperson\u001b[0m\u001b[0;34m.\u001b[0m\u001b[0mname\u001b[0m\u001b[0;34m\u001b[0m\u001b[0;34m\u001b[0m\u001b[0m\n\u001b[0;32m----> 4\u001b[0;31m \u001b[0mprint\u001b[0m\u001b[0;34m(\u001b[0m\u001b[0mperson\u001b[0m\u001b[0;34m.\u001b[0m\u001b[0mname\u001b[0m\u001b[0;34m)\u001b[0m\u001b[0;34m\u001b[0m\u001b[0;34m\u001b[0m\u001b[0m\n\u001b[0m",
            "\u001b[0;31mAttributeError\u001b[0m: 'OOP1_2' object has no attribute 'name'"
          ]
        }
      ]
    },
    {
      "cell_type": "markdown",
      "source": [
        "###Application 1 - Write a Python program that computes the area of a square, and name its class as Square, side as attribute."
      ],
      "metadata": {
        "id": "62V8i7MXXiVQ"
      }
    },
    {
      "cell_type": "code",
      "source": [
        "class Square:\n",
        "  def __init__(self,sides):\n",
        "    self.sides = sides\n",
        "    \n",
        "  def area(self):\n",
        "    return self.sides*self.sides      #formula to compute the area of the square\n",
        "\n",
        "  def display(self):\n",
        "    print(\"the area of the square is:\", self.area())\n",
        "\n",
        "square = Square(4)\n",
        "\n",
        "print(square.sides)\n",
        "square.display()"
      ],
      "metadata": {
        "colab": {
          "base_uri": "https://localhost:8080/"
        },
        "id": "LS51BIfKXdZP",
        "outputId": "da7a1f69-d934-4b25-9e0d-a44f916ca02a"
      },
      "execution_count": null,
      "outputs": [
        {
          "output_type": "stream",
          "name": "stdout",
          "text": [
            "4\n",
            "the area of the square is: 16\n"
          ]
        }
      ]
    },
    {
      "cell_type": "markdown",
      "source": [
        "###Application 2 - Write a Python program that displays your full name, age, course, school. Create a class names MyClass, and name, age, school as attributes"
      ],
      "metadata": {
        "id": "TYJPIYMkbYPO"
      }
    },
    {
      "cell_type": "code",
      "source": [
        "class MyClass:\n",
        "  def __init__(self,name,age,course,school):\n",
        "    self.name = name\n",
        "    self.age = age\n",
        "    self.course = course\n",
        "    self.school = school\n",
        "\n",
        "  def identity(self):\n",
        "    print(self.name,self.age,self.course,self.school)\n",
        "\n",
        "collegestudent = MyClass(\"Ryu B. Santos\",19,\"Bachelor of Science in Computer Engineering\",\"Cavite State Univeristy\")\n",
        "\n",
        "print(collegestudent.identity)\n",
        "\n",
        "print(collegestudent.name)\n",
        "print(collegestudent.age)\n",
        "print(collegestudent.course)\n",
        "print(collegestudent.school)"
      ],
      "metadata": {
        "colab": {
          "base_uri": "https://localhost:8080/"
        },
        "id": "xKR1qM0Cbh-N",
        "outputId": "23ee7d63-79fb-40d9-bfc4-8665d930aa22"
      },
      "execution_count": null,
      "outputs": [
        {
          "output_type": "stream",
          "name": "stdout",
          "text": [
            "<bound method MyClass.identity of <__main__.MyClass object at 0x7fa09b5d5c50>>\n",
            "Ryu B. Santos\n",
            "19\n",
            "Bachelor of Science in Computer Engineering\n",
            "Cavite State Univeristy\n"
          ]
        }
      ]
    }
  ]
}