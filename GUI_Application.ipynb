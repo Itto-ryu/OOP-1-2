{
  "nbformat": 4,
  "nbformat_minor": 0,
  "metadata": {
    "colab": {
      "name": "GUI Application.ipynb",
      "provenance": [],
      "authorship_tag": "ABX9TyMQPvftUyg06nWfel3Yp92g",
      "include_colab_link": true
    },
    "kernelspec": {
      "name": "python3",
      "display_name": "Python 3"
    },
    "language_info": {
      "name": "python"
    }
  },
  "cells": [
    {
      "cell_type": "markdown",
      "metadata": {
        "id": "view-in-github",
        "colab_type": "text"
      },
      "source": [
        "<a href=\"https://colab.research.google.com/github/Itto-ryu/OOP-1-2/blob/main/GUI_Application.ipynb\" target=\"_parent\"><img src=\"https://colab.research.google.com/assets/colab-badge.svg\" alt=\"Open In Colab\"/></a>"
      ]
    },
    {
      "cell_type": "code",
      "execution_count": 11,
      "metadata": {
        "colab": {
          "base_uri": "https://localhost:8080/"
        },
        "id": "eoeu2v8ruUgK",
        "outputId": "fcb9509d-0e19-40bd-a670-90de69ebbf39"
      },
      "outputs": [
        {
          "output_type": "stream",
          "name": "stdout",
          "text": [
            "Male\n",
            "The Prelim grade of Student 1 is  95\n",
            "The Midterm grade of Student 1 is  90\n",
            "The Final grade of Student 1 is  95\n",
            "The Semestral grade of Student 1 is  93.33333333333333\n",
            "93.33333333333333\n"
          ]
        }
      ],
      "source": [
        "#@title Students Grade in OOP\n",
        "\n",
        "Student_Name1 = \"Ryu B. Santos\"#@param {type: \"string\"}\n",
        "\n",
        "#For Gender\n",
        "Gender = \"Male\"#@param[\"Male\",\"Female\"]\n",
        "\n",
        "Prelim = 95#@param {type: \"number\"}\n",
        "Midterm = 90#@param {type: \"number\"}\n",
        "Final = 95#@param {type: \"number\"}\n",
        "\n",
        "semestral_grade = (Prelim+Midterm+Final)/3\n",
        "\n",
        "print(Gender)\n",
        "\n",
        "print(\"The Prelim grade of Student 1 is \"+\" \"+ str(Prelim))\n",
        "print(\"The Midterm grade of Student 1 is \"+\" \"+ str(Midterm))\n",
        "print(\"The Final grade of Student 1 is \"+\" \"+ str(Final))\n",
        "print(\"The Semestral grade of Student 1 is \"+\" \"+ str(semestral_grade))\n",
        "print(semestral_grade)\n",
        "\n",
        "#For Birthdate\n",
        "Birthdate = '2003-02-11'#@param{type: \"date\"}"
      ]
    }
  ]
}